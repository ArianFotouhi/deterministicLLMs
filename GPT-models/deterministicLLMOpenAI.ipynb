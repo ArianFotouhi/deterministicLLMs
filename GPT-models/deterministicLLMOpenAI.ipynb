{
  "nbformat": 4,
  "nbformat_minor": 0,
  "metadata": {
    "colab": {
      "provenance": []
    },
    "kernelspec": {
      "name": "python3",
      "display_name": "Python 3"
    },
    "language_info": {
      "name": "python"
    }
  },
  "cells": [
    {
      "cell_type": "code",
      "source": [
        "import openai\n",
        "\n",
        "messages = [\n",
        "    {\"role\": \"system\", \"content\": \"Answer the questions in three sentences.\"},\n",
        "    {\"role\": \"user\", \"content\": \"How  to get whey protein from milk?\"},\n",
        "]\n",
        "\n",
        "MODEL_NAME = 'gpt-4.1-nano'"
      ],
      "metadata": {
        "id": "zz2MONv1cToS"
      },
      "execution_count": 2,
      "outputs": []
    },
    {
      "cell_type": "markdown",
      "source": [
        "# Deterministic LLM"
      ],
      "metadata": {
        "id": "oCc19mPacLlW"
      }
    },
    {
      "cell_type": "code",
      "execution_count": 9,
      "metadata": {
        "colab": {
          "base_uri": "https://localhost:8080/"
        },
        "id": "XSRcErY8bp6a",
        "outputId": "6f4cfe5e-72cf-4458-f182-f5cbfdf13eec"
      },
      "outputs": [
        {
          "output_type": "stream",
          "name": "stdout",
          "text": [
            "Response 1:\n",
            "Content: To obtain whey protein from milk, first, heat the milk to around 70-80°C to denature the proteins. Then, add an acid like lemon juice or vinegar to curdle the milk, causing the casein to separate as curds. Finally, filter the mixture to remove the curds, leaving behind the liquid whey, which can be further processed and dried to produce whey protein powder.\n",
            "System Fingerprint: fp_eede8f0d45\n",
            "Prompt Tokens: 27\n",
            "Completion Tokens: 83\n",
            "--------------------------------------------------\n",
            "Response 2:\n",
            "Content: To obtain whey protein from milk, first, heat the milk to around 70-80°C to denature the proteins. Then, add an acid like lemon juice or vinegar to curdle the milk, causing the casein to separate as curds. Finally, filter the mixture to remove the curds, leaving behind the liquid whey, which can be further processed and dried to produce whey protein powder.\n",
            "System Fingerprint: fp_eede8f0d45\n",
            "Prompt Tokens: 27\n",
            "Completion Tokens: 83\n",
            "--------------------------------------------------\n"
          ]
        }
      ],
      "source": [
        "for i in range(2):\n",
        "    response = openai.chat.completions.create(\n",
        "        model=MODEL_NAME,\n",
        "        messages=messages,\n",
        "        max_tokens=200,\n",
        "\n",
        "        #constant rate\n",
        "        seed=0,\n",
        "        #from 0 to 1, the the closer to 1, the more inclusive\n",
        "        top_p = 1,\n",
        "        #0 makes the model more deterministic\n",
        "        temperature=0,\n",
        "    )\n",
        "\n",
        "    response_content = response.choices[0].message.content\n",
        "    system_fingerprint = response.system_fingerprint\n",
        "    prompt_tokens = response.usage.prompt_tokens\n",
        "    completion_tokens = response.usage.total_tokens - response.usage.prompt_tokens\n",
        "\n",
        "    print(f\"Response {i+1}:\")\n",
        "    print(f\"Content: {response_content}\")\n",
        "    print(f\"System Fingerprint: {system_fingerprint}\")\n",
        "    print(f\"Prompt Tokens: {prompt_tokens}\")\n",
        "    print(f\"Completion Tokens: {completion_tokens}\")\n",
        "    print('-'*50)"
      ]
    },
    {
      "cell_type": "markdown",
      "source": [
        "# Non-Deterministic LLM (by Top-p)"
      ],
      "metadata": {
        "id": "ai3qKefkcQii"
      }
    },
    {
      "cell_type": "code",
      "source": [
        "for i in range(2):\n",
        "    response = openai.chat.completions.create(\n",
        "        model=MODEL_NAME,\n",
        "        messages=messages,\n",
        "        seed=0,\n",
        "        max_tokens=200,\n",
        "\n",
        "        top_p = 0.6,\n",
        "\n",
        "        temperature=0,\n",
        "    )\n",
        "\n",
        "    response_content = response.choices[0].message.content\n",
        "    system_fingerprint = response.system_fingerprint\n",
        "    prompt_tokens = response.usage.prompt_tokens\n",
        "    completion_tokens = response.usage.total_tokens - response.usage.prompt_tokens\n",
        "\n",
        "    print(f\"Response {i+1}:\")\n",
        "    print(f\"Content: {response_content}\")\n",
        "    print(f\"System Fingerprint: {system_fingerprint}\")\n",
        "    print(f\"Prompt Tokens: {prompt_tokens}\")\n",
        "    print(f\"Completion Tokens: {completion_tokens}\")\n",
        "    print('-'*50)"
      ],
      "metadata": {
        "colab": {
          "base_uri": "https://localhost:8080/"
        },
        "id": "y8qI5gXDcRJZ",
        "outputId": "83a28e09-f747-4116-cf96-07a35766c4c0"
      },
      "execution_count": 10,
      "outputs": [
        {
          "output_type": "stream",
          "name": "stdout",
          "text": [
            "Response 1:\n",
            "Content: To obtain whey protein from milk, first, heat the milk to around 70-80°C to denature the proteins. Then, add an acid like lemon juice or vinegar to curdle the milk, causing the casein to separate as curds. Finally, filter the mixture to remove the curds, leaving behind the liquid whey, which can be further processed and dried to produce whey protein powder.\n",
            "System Fingerprint: fp_eede8f0d45\n",
            "Prompt Tokens: 27\n",
            "Completion Tokens: 83\n",
            "--------------------------------------------------\n",
            "Response 2:\n",
            "Content: To obtain whey protein from milk, first, heat the milk to around 70-80°C to denature the proteins. Then, add an acid like lemon juice or vinegar to curdle the milk, causing the casein to separate as curds. Afterward, filter the mixture to remove the curds, leaving behind the liquid whey, which can be further processed and dried to produce whey protein powder.\n",
            "System Fingerprint: fp_eede8f0d45\n",
            "Prompt Tokens: 27\n",
            "Completion Tokens: 83\n",
            "--------------------------------------------------\n"
          ]
        }
      ]
    },
    {
      "cell_type": "markdown",
      "source": [
        "# Non-Deterministic LLM (by Seed)"
      ],
      "metadata": {
        "id": "UmV8AczJdtjT"
      }
    },
    {
      "cell_type": "code",
      "source": [
        "for i in range(2):\n",
        "    response = openai.chat.completions.create(\n",
        "        model=MODEL_NAME,\n",
        "        messages=messages,\n",
        "\n",
        "        seed=i,\n",
        "\n",
        "        max_tokens=200,\n",
        "        top_p = 1,\n",
        "        temperature=0,\n",
        "    )\n",
        "\n",
        "    response_content = response.choices[0].message.content\n",
        "    system_fingerprint = response.system_fingerprint\n",
        "    prompt_tokens = response.usage.prompt_tokens\n",
        "    completion_tokens = response.usage.total_tokens - response.usage.prompt_tokens\n",
        "\n",
        "    print(f\"Response {i+1}:\")\n",
        "    print(f\"Content: {response_content}\")\n",
        "    print(f\"System Fingerprint: {system_fingerprint}\")\n",
        "    print(f\"Prompt Tokens: {prompt_tokens}\")\n",
        "    print(f\"Completion Tokens: {completion_tokens}\")\n",
        "    print('-'*50)"
      ],
      "metadata": {
        "colab": {
          "base_uri": "https://localhost:8080/"
        },
        "id": "_zeXium0duWB",
        "outputId": "d15aae40-4ed2-49a2-a51d-5e339d2384cf"
      },
      "execution_count": 11,
      "outputs": [
        {
          "output_type": "stream",
          "name": "stdout",
          "text": [
            "Response 1:\n",
            "Content: To obtain whey protein from milk, first, heat the milk to around 70-80°C to denature the proteins. Then, add an acid like lemon juice or vinegar to curdle the milk, causing the casein to separate as curds. Finally, filter the mixture to remove the curds, leaving behind the liquid whey, which can be further processed and dried to produce whey protein powder.\n",
            "System Fingerprint: fp_eede8f0d45\n",
            "Prompt Tokens: 27\n",
            "Completion Tokens: 83\n",
            "--------------------------------------------------\n",
            "Response 2:\n",
            "Content: To obtain whey protein from milk, first, heat the milk to around 70-80°C to denature the proteins. Then, add an acid like lemon juice or vinegar to curdle the milk, causing the casein to separate as curds. Finally, filter out the curds, and the remaining liquid contains whey protein, which can be further processed and dried to produce whey protein powder.\n",
            "System Fingerprint: fp_eede8f0d45\n",
            "Prompt Tokens: 27\n",
            "Completion Tokens: 81\n",
            "--------------------------------------------------\n"
          ]
        }
      ]
    },
    {
      "cell_type": "markdown",
      "source": [
        "# Non-Deterministic LLM (by Temprature)"
      ],
      "metadata": {
        "id": "V5wCnZGUd8V-"
      }
    },
    {
      "cell_type": "code",
      "source": [
        "for i in range(2):\n",
        "    response = openai.chat.completions.create(\n",
        "        model=MODEL_NAME,\n",
        "        messages=messages,\n",
        "        seed=0,\n",
        "        max_tokens=200,\n",
        "        top_p = 1,\n",
        "\n",
        "        temperature=i,\n",
        "    )\n",
        "\n",
        "    response_content = response.choices[0].message.content\n",
        "    system_fingerprint = response.system_fingerprint\n",
        "    prompt_tokens = response.usage.prompt_tokens\n",
        "    completion_tokens = response.usage.total_tokens - response.usage.prompt_tokens\n",
        "\n",
        "    print(f\"Response {i+1}:\")\n",
        "    print(f\"Content: {response_content}\")\n",
        "    print(f\"System Fingerprint: {system_fingerprint}\")\n",
        "    print(f\"Prompt Tokens: {prompt_tokens}\")\n",
        "    print(f\"Completion Tokens: {completion_tokens}\")\n",
        "    print('-'*50)"
      ],
      "metadata": {
        "colab": {
          "base_uri": "https://localhost:8080/"
        },
        "id": "FuNDD76Xd-1w",
        "outputId": "ffb72bd3-250d-4aee-d5e3-96391d9405fb"
      },
      "execution_count": 8,
      "outputs": [
        {
          "output_type": "stream",
          "name": "stdout",
          "text": [
            "Response 1:\n",
            "Content: To obtain whey protein from milk, first, heat the milk to around 70-80°C to denature the proteins. Then, add an acid like lemon juice or vinegar to curdle the milk, causing the casein to separate as curds. Finally, filter the mixture to remove the curds, leaving behind the liquid whey, which can be further processed and dried to produce whey protein powder.\n",
            "System Fingerprint: fp_eede8f0d45\n",
            "Prompt Tokens: 27\n",
            "Completion Tokens: 82\n",
            "--------------------------------------------------\n",
            "Response 2:\n",
            "Content: To obtain whey protein from milk, first, pasteurize the milk to eliminate bacteria. Then, add an acid like lemon juice or vinegar to curdle the milk, separating the curds (casein) from the liquid whey. Finally, filter and lyophilize (freeze-dry) the liquid whey to produce powdered whey protein.\n",
            "System Fingerprint: fp_eede8f0d45\n",
            "Prompt Tokens: 27\n",
            "Completion Tokens: 70\n",
            "--------------------------------------------------\n"
          ]
        }
      ]
    }
  ]
}